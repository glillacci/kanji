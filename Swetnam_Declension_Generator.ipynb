{
 "cells": [
  {
   "cell_type": "markdown",
   "metadata": {},
   "source": [
    "# Swetnam Declension Generator"
   ]
  },
  {
   "cell_type": "markdown",
   "metadata": {},
   "source": [
    "## Pronouns"
   ]
  },
  {
   "cell_type": "code",
   "execution_count": 1,
   "metadata": {},
   "outputs": [
    {
     "name": "stdout",
     "output_type": "stream",
     "text": [
      "quello (nom. m. sg.)\n",
      "quello (nom. f. sg.)\n",
      "quello (nom. n. sg.)\n",
      "quello (gen. m. sg.)\n",
      "quello (gen. f. sg.)\n",
      "quello (gen. n. sg.)\n",
      "quello (dat. m. sg.)\n",
      "quello (dat. f. sg.)\n",
      "quello (dat. n. sg.)\n",
      "quello (acc. m. sg.)\n",
      "quello (acc. f. sg.)\n",
      "quello (acc. n. sg.)\n",
      "quello (nom. m. pl.)\n",
      "quello (nom. f. pl.)\n",
      "quello (nom. n. pl.)\n",
      "quello (gen. m. pl.)\n",
      "quello (gen. f. pl.)\n",
      "quello (gen. n. pl.)\n",
      "quello (dat. m. pl.)\n",
      "quello (dat. f. pl.)\n",
      "quello (dat. n. pl.)\n",
      "quello (acc. m. pl.)\n",
      "quello (acc. f. pl.)\n",
      "quello (acc. n. pl.)\n"
     ]
    }
   ],
   "source": [
    "base_word = 'quello'\n",
    "\n",
    "for number in ['sg.', 'pl.']:\n",
    "    for case in ['nom.', 'gen.', 'dat.', 'acc.']:\n",
    "        for gender in ['m.', 'f.', 'n.']:\n",
    "            print(f'{base_word} ({case} {gender} {number})')"
   ]
  },
  {
   "cell_type": "markdown",
   "metadata": {},
   "source": [
    "## Adjectives"
   ]
  },
  {
   "cell_type": "code",
   "execution_count": 1,
   "metadata": {},
   "outputs": [
    {
     "name": "stdout",
     "output_type": "stream",
     "text": [
      "colui che sarà (nom. m. sg.)\n",
      "colui che sarà (nom. f. sg.)\n",
      "colui che sarà (nom. n. sg.)\n",
      "colui che sarà (voc. m. sg.)\n",
      "colui che sarà (voc. f. sg.)\n",
      "colui che sarà (voc. n. sg.)\n",
      "colui che sarà (gen. m. sg.)\n",
      "colui che sarà (gen. f. sg.)\n",
      "colui che sarà (gen. n. sg.)\n",
      "colui che sarà (dat. m. sg.)\n",
      "colui che sarà (dat. f. sg.)\n",
      "colui che sarà (dat. n. sg.)\n",
      "colui che sarà (acc. m. sg.)\n",
      "colui che sarà (acc. f. sg.)\n",
      "colui che sarà (acc. n. sg.)\n",
      "colui che sarà (nom. m. pl.)\n",
      "colui che sarà (nom. f. pl.)\n",
      "colui che sarà (nom. n. pl.)\n",
      "colui che sarà (voc. m. pl.)\n",
      "colui che sarà (voc. f. pl.)\n",
      "colui che sarà (voc. n. pl.)\n",
      "colui che sarà (gen. m. pl.)\n",
      "colui che sarà (gen. f. pl.)\n",
      "colui che sarà (gen. n. pl.)\n",
      "colui che sarà (dat. m. pl.)\n",
      "colui che sarà (dat. f. pl.)\n",
      "colui che sarà (dat. n. pl.)\n",
      "colui che sarà (acc. m. pl.)\n",
      "colui che sarà (acc. f. pl.)\n",
      "colui che sarà (acc. n. pl.)\n"
     ]
    }
   ],
   "source": [
    "base_word = 'colui che sarà'\n",
    "\n",
    "for number in ['sg.', 'pl.']:\n",
    "    for case in ['nom.', 'voc.', 'gen.', 'dat.', 'acc.']:\n",
    "        for gender in ['m.', 'f.', 'n.']:\n",
    "            print(f'{base_word} ({case} {gender} {number})')"
   ]
  },
  {
   "cell_type": "markdown",
   "metadata": {},
   "source": [
    "## Nouns"
   ]
  },
  {
   "cell_type": "code",
   "execution_count": 2,
   "metadata": {},
   "outputs": [
    {
     "name": "stdout",
     "output_type": "stream",
     "text": [
      "salvatore (nom. sg.)\n",
      "salvatore (voc. sg.)\n",
      "salvatore (gen. sg.)\n",
      "salvatore (dat. sg.)\n",
      "salvatore (acc. sg.)\n",
      "salvatore (nom. pl.)\n",
      "salvatore (voc. pl.)\n",
      "salvatore (gen. pl.)\n",
      "salvatore (dat. pl.)\n",
      "salvatore (acc. pl.)\n"
     ]
    }
   ],
   "source": [
    "base_word = 'salvatore'\n",
    "\n",
    "for number in ['sg.', 'pl.']:\n",
    "    for case in ['nom.', 'voc.', 'gen.', 'dat.', 'acc.']:\n",
    "        print(f'{base_word} ({case} {number})')"
   ]
  },
  {
   "cell_type": "code",
   "execution_count": null,
   "metadata": {},
   "outputs": [],
   "source": []
  }
 ],
 "metadata": {
  "kernelspec": {
   "display_name": "Python 3",
   "language": "python",
   "name": "python3"
  },
  "language_info": {
   "codemirror_mode": {
    "name": "ipython",
    "version": 3
   },
   "file_extension": ".py",
   "mimetype": "text/x-python",
   "name": "python",
   "nbconvert_exporter": "python",
   "pygments_lexer": "ipython3",
   "version": "3.8.6"
  }
 },
 "nbformat": 4,
 "nbformat_minor": 4
}
