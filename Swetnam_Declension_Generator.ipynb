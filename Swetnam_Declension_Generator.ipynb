{
 "cells": [
  {
   "cell_type": "markdown",
   "metadata": {},
   "source": [
    "# Swetnam Declension Generator"
   ]
  },
  {
   "cell_type": "markdown",
   "metadata": {},
   "source": [
    "## Pronouns"
   ]
  },
  {
   "cell_type": "code",
   "execution_count": 1,
   "metadata": {},
   "outputs": [],
   "source": [
    "base_word = 'questo'\n",
    "\n",
    "for number in ['sg.', 'pl.']:\n",
    "    for case in ['nom.', 'gen.', 'dat.', 'acc.']:\n",
    "        for gender in ['m.', 'f.', 'n.']:\n",
    "            print(f'{base_word} ({case} {gender} {number})')"
   ]
  },
  {
   "cell_type": "markdown",
   "metadata": {},
   "source": [
    "## Adjectives"
   ]
  },
  {
   "cell_type": "code",
   "execution_count": 1,
   "metadata": {},
   "outputs": [
    {
     "name": "stdout",
     "output_type": "stream",
     "text": [
      "colui che è (nom. m. sg.)\n",
      "colui che è (nom. f. sg.)\n",
      "colui che è (nom. n. sg.)\n",
      "colui che è (voc. m. sg.)\n",
      "colui che è (voc. f. sg.)\n",
      "colui che è (voc. n. sg.)\n",
      "colui che è (gen. m. sg.)\n",
      "colui che è (gen. f. sg.)\n",
      "colui che è (gen. n. sg.)\n",
      "colui che è (dat. m. sg.)\n",
      "colui che è (dat. f. sg.)\n",
      "colui che è (dat. n. sg.)\n",
      "colui che è (acc. m. sg.)\n",
      "colui che è (acc. f. sg.)\n",
      "colui che è (acc. n. sg.)\n",
      "colui che è (nom. m. pl.)\n",
      "colui che è (nom. f. pl.)\n",
      "colui che è (nom. n. pl.)\n",
      "colui che è (voc. m. pl.)\n",
      "colui che è (voc. f. pl.)\n",
      "colui che è (voc. n. pl.)\n",
      "colui che è (gen. m. pl.)\n",
      "colui che è (gen. f. pl.)\n",
      "colui che è (gen. n. pl.)\n",
      "colui che è (dat. m. pl.)\n",
      "colui che è (dat. f. pl.)\n",
      "colui che è (dat. n. pl.)\n",
      "colui che è (acc. m. pl.)\n",
      "colui che è (acc. f. pl.)\n",
      "colui che è (acc. n. pl.)\n"
     ]
    }
   ],
   "source": [
    "base_word = 'colui che è'\n",
    "\n",
    "for number in ['sg.', 'pl.']:\n",
    "    for case in ['nom.', 'voc.', 'gen.', 'dat.', 'acc.']:\n",
    "        for gender in ['m.', 'f.', 'n.']:\n",
    "            print(f'{base_word} ({case} {gender} {number})')"
   ]
  },
  {
   "cell_type": "markdown",
   "metadata": {},
   "source": [
    "## Nouns"
   ]
  },
  {
   "cell_type": "code",
   "execution_count": 3,
   "metadata": {},
   "outputs": [
    {
     "name": "stdout",
     "output_type": "stream",
     "text": [
      "discepolo (nom. sg.)\n",
      "discepolo (voc. sg.)\n",
      "discepolo (gen. sg.)\n",
      "discepolo (dat. sg.)\n",
      "discepolo (acc. sg.)\n",
      "discepolo (nom. pl.)\n",
      "discepolo (voc. pl.)\n",
      "discepolo (gen. pl.)\n",
      "discepolo (dat. pl.)\n",
      "discepolo (acc. pl.)\n"
     ]
    }
   ],
   "source": [
    "base_word = 'discepolo'\n",
    "\n",
    "for number in ['sg.', 'pl.']:\n",
    "    for case in ['nom.', 'voc.', 'gen.', 'dat.', 'acc.']:\n",
    "        print(f'{base_word} ({case} {number})')"
   ]
  },
  {
   "cell_type": "code",
   "execution_count": null,
   "metadata": {},
   "outputs": [],
   "source": []
  }
 ],
 "metadata": {
  "kernelspec": {
   "display_name": "Python 3",
   "language": "python",
   "name": "python3"
  },
  "language_info": {
   "codemirror_mode": {
    "name": "ipython",
    "version": 3
   },
   "file_extension": ".py",
   "mimetype": "text/x-python",
   "name": "python",
   "nbconvert_exporter": "python",
   "pygments_lexer": "ipython3",
   "version": "3.8.6"
  }
 },
 "nbformat": 4,
 "nbformat_minor": 4
}
